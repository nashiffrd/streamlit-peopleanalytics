{
  "cells": [
    {
      "cell_type": "code",
      "execution_count": 1,
      "metadata": {
        "colab": {
          "base_uri": "https://localhost:8080/"
        },
        "id": "R8xfL5pyxc-X",
        "outputId": "06f6e372-6abd-45e9-ce52-ab35cbb31f6b"
      },
      "outputs": [
        {
          "output_type": "stream",
          "name": "stdout",
          "text": [
            "\u001b[2K     \u001b[90m━━━━━━━━━━━━━━━━━━━━━━━━━━━━━━━━━━━━━━━━\u001b[0m \u001b[32m44.3/44.3 kB\u001b[0m \u001b[31m2.3 MB/s\u001b[0m eta \u001b[36m0:00:00\u001b[0m\n",
            "\u001b[2K   \u001b[90m━━━━━━━━━━━━━━━━━━━━━━━━━━━━━━━━━━━━━━━━\u001b[0m \u001b[32m9.9/9.9 MB\u001b[0m \u001b[31m66.5 MB/s\u001b[0m eta \u001b[36m0:00:00\u001b[0m\n",
            "\u001b[2K   \u001b[90m━━━━━━━━━━━━━━━━━━━━━━━━━━━━━━━━━━━━━━━━\u001b[0m \u001b[32m6.9/6.9 MB\u001b[0m \u001b[31m103.2 MB/s\u001b[0m eta \u001b[36m0:00:00\u001b[0m\n",
            "\u001b[2K   \u001b[90m━━━━━━━━━━━━━━━━━━━━━━━━━━━━━━━━━━━━━━━━\u001b[0m \u001b[32m79.1/79.1 kB\u001b[0m \u001b[31m6.0 MB/s\u001b[0m eta \u001b[36m0:00:00\u001b[0m\n",
            "\u001b[?25h"
          ]
        }
      ],
      "source": [
        "! pip install streamlit -q"
      ]
    },
    {
      "cell_type": "code",
      "execution_count": 3,
      "metadata": {
        "colab": {
          "base_uri": "https://localhost:8080/"
        },
        "id": "pN3WzfEG8RLa",
        "outputId": "79bfb00e-0af3-4826-f75d-3b23e832f63c"
      },
      "outputs": [
        {
          "output_type": "stream",
          "name": "stdout",
          "text": [
            "Collecting squarify\n",
            "  Downloading squarify-0.4.4-py3-none-any.whl.metadata (600 bytes)\n",
            "Downloading squarify-0.4.4-py3-none-any.whl (4.1 kB)\n",
            "Installing collected packages: squarify\n",
            "Successfully installed squarify-0.4.4\n"
          ]
        }
      ],
      "source": [
        "!pip install squarify"
      ]
    },
    {
      "cell_type": "code",
      "execution_count": 2,
      "metadata": {
        "colab": {
          "base_uri": "https://localhost:8080/"
        },
        "id": "AU3Hd91Exj38",
        "outputId": "f2214e89-a415-444b-f754-f37edc6e0a1c"
      },
      "outputs": [
        {
          "output_type": "stream",
          "name": "stdout",
          "text": [
            "34.23.235.109\n"
          ]
        }
      ],
      "source": [
        "!wget -q -O - ipv4.icanhazip.com"
      ]
    },
    {
      "cell_type": "code",
      "execution_count": null,
      "metadata": {
        "colab": {
          "background_save": true,
          "base_uri": "https://localhost:8080/"
        },
        "id": "CxicFBc0IiBC",
        "outputId": "b0249d2a-53df-4d49-9524-72b6d7018a41"
      },
      "outputs": [
        {
          "output_type": "stream",
          "name": "stdout",
          "text": [
            "\u001b[1G\u001b[0K⠙\u001b[1G\u001b[0K⠹\u001b[1G\u001b[0K⠸\u001b[1G\u001b[0K⠼\n",
            "Collecting usage statistics. To deactivate, set browser.gatherUsageStats to false.\n",
            "\u001b[0m\n",
            "\u001b[1G\u001b[0K⠴\u001b[1G\u001b[0K⠦\u001b[1G\u001b[0K⠧\u001b[1G\u001b[0K⠇\u001b[1G\u001b[0K⠏\u001b[1G\u001b[0K⠋\u001b[1G\u001b[0K⠙\u001b[1G\u001b[0K⠹\u001b[1G\u001b[0K\u001b[1G\u001b[0JNeed to install the following packages:\n",
            "localtunnel@2.0.2\n",
            "Ok to proceed? (y) \u001b[20G\u001b[0m\n",
            "\u001b[34m\u001b[1m  You can now view your Streamlit app in your browser.\u001b[0m\n",
            "\u001b[0m\n",
            "\u001b[34m  Local URL: \u001b[0m\u001b[1mhttp://localhost:8501\u001b[0m\n",
            "\u001b[34m  Network URL: \u001b[0m\u001b[1mhttp://172.28.0.12:8501\u001b[0m\n",
            "\u001b[34m  External URL: \u001b[0m\u001b[1mhttp://34.23.235.109:8501\u001b[0m\n",
            "\u001b[0m\n",
            "y\n",
            "\n",
            "\u001b[1G\u001b[0K⠙\u001b[1G\u001b[0K⠹\u001b[1G\u001b[0K⠸\u001b[1G\u001b[0K⠼\u001b[1G\u001b[0K⠴\u001b[1G\u001b[0K⠦\u001b[1G\u001b[0K⠧\u001b[1G\u001b[0K⠇\u001b[1G\u001b[0K⠏\u001b[1G\u001b[0K⠋\u001b[1G\u001b[0K⠙\u001b[1G\u001b[0K⠹\u001b[1G\u001b[0K⠸\u001b[1G\u001b[0K⠼\u001b[1G\u001b[0K⠴\u001b[1G\u001b[0K⠦\u001b[1G\u001b[0K⠧\u001b[1G\u001b[0K⠇\u001b[1G\u001b[0K⠏\u001b[1G\u001b[0K⠋\u001b[1G\u001b[0K⠙\u001b[1G\u001b[0K⠹\u001b[1G\u001b[0K⠸\u001b[1G\u001b[0K⠼\u001b[1G\u001b[0K⠴\u001b[1G\u001b[0K⠦\u001b[1G\u001b[0K⠧\u001b[1G\u001b[0K⠇\u001b[1G\u001b[0K⠏\u001b[1G\u001b[0K⠋\u001b[1G\u001b[0K⠙\u001b[1G\u001b[0K⠹\u001b[1G\u001b[0K⠸\u001b[1G\u001b[0K⠼\u001b[1G\u001b[0K⠴\u001b[1G\u001b[0K⠦\u001b[1G\u001b[0K⠧\u001b[1G\u001b[0Kyour url is: https://twelve-parents-search.loca.lt\n",
            "\u001b[31m──\u001b[0m\u001b[31m────────────────────────\u001b[0m\u001b[31m \u001b[0m\u001b[1;31mTraceback \u001b[0m\u001b[1;2;31m(most recent call last)\u001b[0m\u001b[31m \u001b[0m\u001b[31m─────────────────────────\u001b[0m\u001b[31m──\u001b[0m\n",
            "\u001b[31m \u001b[0m \u001b[2;33m/usr/local/lib/python3.11/dist-packages/streamlit/runtime/scriptrunner/\u001b[0m\u001b[1;33mexec_code.py\u001b[0m: \u001b[31m \u001b[0m\n",
            "\u001b[31m \u001b[0m \u001b[94m121\u001b[0m in \u001b[92mexec_func_with_error_handling\u001b[0m                                                 \u001b[31m \u001b[0m\n",
            "\u001b[31m \u001b[0m                                                                                      \u001b[31m \u001b[0m\n",
            "\u001b[31m \u001b[0m \u001b[2;33m/usr/local/lib/python3.11/dist-packages/streamlit/runtime/scriptrunner/\u001b[0m\u001b[1;33mscript_runner\u001b[0m \u001b[31m \u001b[0m\n",
            "\u001b[31m \u001b[0m \u001b[1;33m.py\u001b[0m:\u001b[94m645\u001b[0m in \u001b[92mcode_to_exec\u001b[0m                                                              \u001b[31m \u001b[0m\n",
            "\u001b[31m \u001b[0m                                                                                      \u001b[31m \u001b[0m\n",
            "\u001b[31m \u001b[0m \u001b[2;33m/content/\u001b[0m\u001b[1;33mapp.py\u001b[0m:\u001b[94m143\u001b[0m in \u001b[92m<module>\u001b[0m                                                      \u001b[31m \u001b[0m\n",
            "\u001b[31m \u001b[0m                                                                                      \u001b[31m \u001b[0m\n",
            "\u001b[31m \u001b[0m   \u001b[2m140 \u001b[0m\u001b[2m│   \u001b[0mlinewidths=\u001b[94m0.5\u001b[0m,                                                            \u001b[31m \u001b[0m\n",
            "\u001b[31m \u001b[0m   \u001b[2m141 \u001b[0m\u001b[2m│   \u001b[0mlinecolor=\u001b[33m'\u001b[0m\u001b[33mgray\u001b[0m\u001b[33m'\u001b[0m,                                                          \u001b[31m \u001b[0m\n",
            "\u001b[31m \u001b[0m   \u001b[2m142 \u001b[0m\u001b[2m│   \u001b[0mcbar_kws={\u001b[33m'\u001b[0m\u001b[33mlabel\u001b[0m\u001b[33m'\u001b[0m: \u001b[33m'\u001b[0m\u001b[33mAchievement (\u001b[0m\u001b[33m%\u001b[0m\u001b[33m)\u001b[0m\u001b[33m'\u001b[0m},                                     \u001b[31m \u001b[0m\n",
            "\u001b[31m \u001b[0m \u001b[31m❱ \u001b[0m143 \u001b[2m│   \u001b[0max=\u001b[1;4max\u001b[0m                                                                      \u001b[31m \u001b[0m\n",
            "\u001b[31m \u001b[0m   \u001b[2m144 \u001b[0m)                                                                              \u001b[31m \u001b[0m\n",
            "\u001b[31m \u001b[0m   \u001b[2m145 \u001b[0m                                                                               \u001b[31m \u001b[0m\n",
            "\u001b[31m \u001b[0m   \u001b[2m146 \u001b[0max3.set_title(\u001b[33m'\u001b[0m\u001b[33mHeatmap Capaian Aktual Bulanan per Karyawan\u001b[0m\u001b[33m'\u001b[0m, fontsize=\u001b[94m14\u001b[0m)      \u001b[31m \u001b[0m\n",
            "\u001b[31m────────────────────────────────────────────────────────────────────────────────────────\u001b[0m\n",
            "\u001b[1;91mNameError: \u001b[0mname \u001b[32m'ax'\u001b[0m is not defined\n",
            "\u001b[31m──\u001b[0m\u001b[31m────────────────────────\u001b[0m\u001b[31m \u001b[0m\u001b[1;31mTraceback \u001b[0m\u001b[1;2;31m(most recent call last)\u001b[0m\u001b[31m \u001b[0m\u001b[31m─────────────────────────\u001b[0m\u001b[31m──\u001b[0m\n",
            "\u001b[31m \u001b[0m \u001b[2;33m/usr/local/lib/python3.11/dist-packages/streamlit/runtime/scriptrunner/\u001b[0m\u001b[1;33mexec_code.py\u001b[0m: \u001b[31m \u001b[0m\n",
            "\u001b[31m \u001b[0m \u001b[94m121\u001b[0m in \u001b[92mexec_func_with_error_handling\u001b[0m                                                 \u001b[31m \u001b[0m\n",
            "\u001b[31m \u001b[0m                                                                                      \u001b[31m \u001b[0m\n",
            "\u001b[31m \u001b[0m \u001b[2;33m/usr/local/lib/python3.11/dist-packages/streamlit/runtime/scriptrunner/\u001b[0m\u001b[1;33mscript_runner\u001b[0m \u001b[31m \u001b[0m\n",
            "\u001b[31m \u001b[0m \u001b[1;33m.py\u001b[0m:\u001b[94m645\u001b[0m in \u001b[92mcode_to_exec\u001b[0m                                                              \u001b[31m \u001b[0m\n",
            "\u001b[31m \u001b[0m                                                                                      \u001b[31m \u001b[0m\n",
            "\u001b[31m \u001b[0m \u001b[2;33m/content/\u001b[0m\u001b[1;33mapp.py\u001b[0m:\u001b[94m130\u001b[0m in \u001b[92m<module>\u001b[0m                                                      \u001b[31m \u001b[0m\n",
            "\u001b[31m \u001b[0m                                                                                      \u001b[31m \u001b[0m\n",
            "\u001b[31m \u001b[0m   \u001b[2m127 \u001b[0m)                                                                              \u001b[31m \u001b[0m\n",
            "\u001b[31m \u001b[0m   \u001b[2m128 \u001b[0m                                                                               \u001b[31m \u001b[0m\n",
            "\u001b[31m \u001b[0m   \u001b[2m129 \u001b[0m\u001b[2m# Urutkan kolom bulan berdasarkan waktu\u001b[0m                                        \u001b[31m \u001b[0m\n",
            "\u001b[31m \u001b[0m \u001b[31m❱ \u001b[0m130 bulan_order = \u001b[1;4mpd.to_datetime(pivot.columns, \u001b[0m\u001b[1;4;96mformat\u001b[0m\u001b[1;4m=\u001b[0m\u001b[1;4;33m'\u001b[0m\u001b[1;4;33m%\u001b[0m\u001b[1;4;33mb \u001b[0m\u001b[1;4;33m%\u001b[0m\u001b[1;4;33mY\u001b[0m\u001b[1;4;33m'\u001b[0m\u001b[1;4m)\u001b[0m.sort_values()      \u001b[31m \u001b[0m\n",
            "\u001b[31m \u001b[0m   \u001b[2m131 \u001b[0mpivot = pivot[bulan_order.strftime(\u001b[33m'\u001b[0m\u001b[33m%\u001b[0m\u001b[33mb \u001b[0m\u001b[33m%\u001b[0m\u001b[33mY\u001b[0m\u001b[33m'\u001b[0m)]                                   \u001b[31m \u001b[0m\n",
            "\u001b[31m \u001b[0m   \u001b[2m132 \u001b[0m                                                                               \u001b[31m \u001b[0m\n",
            "\u001b[31m \u001b[0m   \u001b[2m133 \u001b[0m\u001b[2m# Plot heatmap\u001b[0m                                                                 \u001b[31m \u001b[0m\n",
            "\u001b[31m \u001b[0m                                                                                      \u001b[31m \u001b[0m\n",
            "\u001b[31m \u001b[0m \u001b[2;33m/usr/local/lib/python3.11/dist-packages/pandas/core/tools/\u001b[0m\u001b[1;33mdatetimes.py\u001b[0m:\u001b[94m1076\u001b[0m in       \u001b[31m \u001b[0m\n",
            "\u001b[31m \u001b[0m \u001b[92mto_datetime\u001b[0m                                                                          \u001b[31m \u001b[0m\n",
            "\u001b[31m \u001b[0m                                                                                      \u001b[31m \u001b[0m\n",
            "\u001b[31m \u001b[0m   \u001b[2m1073 \u001b[0m\u001b[2m│   │   \u001b[0m\u001b[94mif\u001b[0m \u001b[95mnot\u001b[0m cache_array.empty:                                             \u001b[31m \u001b[0m\n",
            "\u001b[31m \u001b[0m   \u001b[2m1074 \u001b[0m\u001b[2m│   │   │   \u001b[0mresult = _convert_and_box_cache(arg, cache_array, name=arg.name)  \u001b[31m \u001b[0m\n",
            "\u001b[31m \u001b[0m   \u001b[2m1075 \u001b[0m\u001b[2m│   │   \u001b[0m\u001b[94melse\u001b[0m:                                                                 \u001b[31m \u001b[0m\n",
            "\u001b[31m \u001b[0m \u001b[31m❱ \u001b[0m1076 \u001b[2m│   │   │   \u001b[0mresult = \u001b[1;4mconvert_listlike(arg, \u001b[0m\u001b[1;4;96mformat\u001b[0m\u001b[1;4m, name=arg.name)\u001b[0m             \u001b[31m \u001b[0m\n",
            "\u001b[31m \u001b[0m   \u001b[2m1077 \u001b[0m\u001b[2m│   \u001b[0m\u001b[94melif\u001b[0m is_list_like(arg):                                                   \u001b[31m \u001b[0m\n",
            "\u001b[31m \u001b[0m   \u001b[2m1078 \u001b[0m\u001b[2m│   │   \u001b[0m\u001b[94mtry\u001b[0m:                                                                  \u001b[31m \u001b[0m\n",
            "\u001b[31m \u001b[0m   \u001b[2m1079 \u001b[0m\u001b[2m│   │   │   \u001b[0m\u001b[2m# error: Argument 1 to \"_maybe_cache\" has incompatible type\u001b[0m       \u001b[31m \u001b[0m\n",
            "\u001b[31m \u001b[0m                                                                                      \u001b[31m \u001b[0m\n",
            "\u001b[31m \u001b[0m \u001b[2;33m/usr/local/lib/python3.11/dist-packages/pandas/core/tools/\u001b[0m\u001b[1;33mdatetimes.py\u001b[0m:\u001b[94m433\u001b[0m in        \u001b[31m \u001b[0m\n",
            "\u001b[31m \u001b[0m \u001b[92m_convert_listlike_datetimes\u001b[0m                                                          \u001b[31m \u001b[0m\n",
            "\u001b[31m \u001b[0m                                                                                      \u001b[31m \u001b[0m\n",
            "\u001b[31m \u001b[0m   \u001b[2m 430 \u001b[0m\u001b[2m│   \u001b[0m                                                                          \u001b[31m \u001b[0m\n",
            "\u001b[31m \u001b[0m   \u001b[2m 431 \u001b[0m\u001b[2m│   \u001b[0m\u001b[2m# `format` could be inferred, or user didn't ask for mixed-format parsing\u001b[0m \u001b[31m \u001b[0m\n",
            "\u001b[31m \u001b[0m   \u001b[2m 432 \u001b[0m\u001b[2m│   \u001b[0m\u001b[94mif\u001b[0m \u001b[96mformat\u001b[0m \u001b[95mis\u001b[0m \u001b[95mnot\u001b[0m \u001b[94mNone\u001b[0m \u001b[95mand\u001b[0m \u001b[96mformat\u001b[0m != \u001b[33m\"\u001b[0m\u001b[33mmixed\u001b[0m\u001b[33m\"\u001b[0m:                              \u001b[31m \u001b[0m\n",
            "\u001b[31m \u001b[0m \u001b[31m❱ \u001b[0m 433 \u001b[2m│   │   \u001b[0m\u001b[94mreturn\u001b[0m \u001b[1;4m_array_strptime_with_fallback(arg, name, utc, \u001b[0m\u001b[1;4;96mformat\u001b[0m\u001b[1;4m, exact, e\u001b[0m \u001b[31m \u001b[0m\n",
            "\u001b[31m \u001b[0m   \u001b[2m 434 \u001b[0m\u001b[2m│   \u001b[0m                                                                          \u001b[31m \u001b[0m\n",
            "\u001b[31m \u001b[0m   \u001b[2m 435 \u001b[0m\u001b[2m│   \u001b[0mresult, tz_parsed = objects_to_datetime64(                                \u001b[31m \u001b[0m\n",
            "\u001b[31m \u001b[0m   \u001b[2m 436 \u001b[0m\u001b[2m│   │   \u001b[0marg,                                                                  \u001b[31m \u001b[0m\n",
            "\u001b[31m \u001b[0m                                                                                      \u001b[31m \u001b[0m\n",
            "\u001b[31m \u001b[0m \u001b[2;33m/usr/local/lib/python3.11/dist-packages/pandas/core/tools/\u001b[0m\u001b[1;33mdatetimes.py\u001b[0m:\u001b[94m467\u001b[0m in        \u001b[31m \u001b[0m\n",
            "\u001b[31m \u001b[0m \u001b[92m_array_strptime_with_fallback\u001b[0m                                                        \u001b[31m \u001b[0m\n",
            "\u001b[31m \u001b[0m                                                                                      \u001b[31m \u001b[0m\n",
            "\u001b[31m \u001b[0m   \u001b[2m 464 \u001b[0m\u001b[2;90m│   \u001b[0m\u001b[33m\"\"\"\u001b[0m                                                                       \u001b[31m \u001b[0m\n",
            "\u001b[31m \u001b[0m   \u001b[2m 465 \u001b[0m\u001b[2;33m│   \u001b[0m\u001b[33mCall array_strptime, with fallback behavior depending on 'errors'.\u001b[0m        \u001b[31m \u001b[0m\n",
            "\u001b[31m \u001b[0m   \u001b[2m 466 \u001b[0m\u001b[2;33m│   \u001b[0m\u001b[33m\"\"\"\u001b[0m                                                                       \u001b[31m \u001b[0m\n",
            "\u001b[31m \u001b[0m \u001b[31m❱ \u001b[0m 467 \u001b[2m│   \u001b[0mresult, tz_out = \u001b[1;4marray_strptime(arg, fmt, exact=exact, errors=errors, utc\u001b[0m \u001b[31m \u001b[0m\n",
            "\u001b[31m \u001b[0m   \u001b[2m 468 \u001b[0m\u001b[2m│   \u001b[0m\u001b[94mif\u001b[0m tz_out \u001b[95mis\u001b[0m \u001b[95mnot\u001b[0m \u001b[94mNone\u001b[0m:                                                    \u001b[31m \u001b[0m\n",
            "\u001b[31m \u001b[0m   \u001b[2m 469 \u001b[0m\u001b[2m│   │   \u001b[0munit = np.datetime_data(result.dtype)[\u001b[94m0\u001b[0m]                              \u001b[31m \u001b[0m\n",
            "\u001b[31m \u001b[0m   \u001b[2m 470 \u001b[0m\u001b[2m│   │   \u001b[0mdtype = DatetimeTZDtype(tz=tz_out, unit=unit)                         \u001b[31m \u001b[0m\n",
            "\u001b[31m \u001b[0m                                                                                      \u001b[31m \u001b[0m\n",
            "\u001b[31m \u001b[0m in \u001b[92mpandas._libs.tslibs.strptime.array_strptime\u001b[0m:\u001b[94m501\u001b[0m                                   \u001b[31m \u001b[0m\n",
            "\u001b[31m \u001b[0m                                                                                      \u001b[31m \u001b[0m\n",
            "\u001b[31m \u001b[0m in \u001b[92mpandas._libs.tslibs.strptime.array_strptime\u001b[0m:\u001b[94m451\u001b[0m                                   \u001b[31m \u001b[0m\n",
            "\u001b[31m \u001b[0m                                                                                      \u001b[31m \u001b[0m\n",
            "\u001b[31m \u001b[0m in \u001b[92mpandas._libs.tslibs.strptime._parse_with_format\u001b[0m:\u001b[94m587\u001b[0m                               \u001b[31m \u001b[0m\n",
            "\u001b[31m────────────────────────────────────────────────────────────────────────────────────────\u001b[0m\n",
            "\u001b[1;91mValueError: \u001b[0munconverted data remains when parsing with format \u001b[32m\"%b %y\"\u001b[0m: \u001b[32m\"24\"\u001b[0m, at position\n",
            "\u001b[1;36m0\u001b[0m. You might want to try:\n",
            "    - passing `format` if your strings have a consistent format;\n",
            "    - passing `\u001b[33mformat\u001b[0m=\u001b[32m'ISO8601'\u001b[0m` if your strings are all ISO8601 but not necessarily in \n",
            "exactly the same format;\n",
            "    - passing `\u001b[33mformat\u001b[0m=\u001b[32m'mixed'\u001b[0m`, and the format will be inferred for each element \n",
            "individually. You might want to use `dayfirst` alongside this.\n",
            "\u001b[31m──\u001b[0m\u001b[31m────────────────────────\u001b[0m\u001b[31m \u001b[0m\u001b[1;31mTraceback \u001b[0m\u001b[1;2;31m(most recent call last)\u001b[0m\u001b[31m \u001b[0m\u001b[31m─────────────────────────\u001b[0m\u001b[31m──\u001b[0m\n",
            "\u001b[31m \u001b[0m \u001b[2;33m/usr/local/lib/python3.11/dist-packages/streamlit/runtime/scriptrunner/\u001b[0m\u001b[1;33mexec_code.py\u001b[0m: \u001b[31m \u001b[0m\n",
            "\u001b[31m \u001b[0m \u001b[94m121\u001b[0m in \u001b[92mexec_func_with_error_handling\u001b[0m                                                 \u001b[31m \u001b[0m\n",
            "\u001b[31m \u001b[0m                                                                                      \u001b[31m \u001b[0m\n",
            "\u001b[31m \u001b[0m \u001b[2;33m/usr/local/lib/python3.11/dist-packages/streamlit/runtime/scriptrunner/\u001b[0m\u001b[1;33mscript_runner\u001b[0m \u001b[31m \u001b[0m\n",
            "\u001b[31m \u001b[0m \u001b[1;33m.py\u001b[0m:\u001b[94m645\u001b[0m in \u001b[92mcode_to_exec\u001b[0m                                                              \u001b[31m \u001b[0m\n",
            "\u001b[31m \u001b[0m                                                                                      \u001b[31m \u001b[0m\n",
            "\u001b[31m \u001b[0m \u001b[2;33m/content/\u001b[0m\u001b[1;33mapp.py\u001b[0m:\u001b[94m130\u001b[0m in \u001b[92m<module>\u001b[0m                                                      \u001b[31m \u001b[0m\n",
            "\u001b[31m \u001b[0m                                                                                      \u001b[31m \u001b[0m\n",
            "\u001b[31m \u001b[0m   \u001b[2m127 \u001b[0m)                                                                              \u001b[31m \u001b[0m\n",
            "\u001b[31m \u001b[0m   \u001b[2m128 \u001b[0m                                                                               \u001b[31m \u001b[0m\n",
            "\u001b[31m \u001b[0m   \u001b[2m129 \u001b[0m\u001b[2m# Urutkan kolom bulan berdasarkan waktu\u001b[0m                                        \u001b[31m \u001b[0m\n",
            "\u001b[31m \u001b[0m \u001b[31m❱ \u001b[0m130 bulan_order = \u001b[1;4mpd.to_datetime(pivot.columns, \u001b[0m\u001b[1;4;96mformat\u001b[0m\u001b[1;4m=\u001b[0m\u001b[1;4;33m'\u001b[0m\u001b[1;4;33m%\u001b[0m\u001b[1;4;33mb \u001b[0m\u001b[1;4;33m%\u001b[0m\u001b[1;4;33my\u001b[0m\u001b[1;4;33m'\u001b[0m\u001b[1;4m)\u001b[0m.sort_values()      \u001b[31m \u001b[0m\n",
            "\u001b[31m \u001b[0m   \u001b[2m131 \u001b[0mpivot = pivot[bulan_order.strftime(\u001b[33m'\u001b[0m\u001b[33m%\u001b[0m\u001b[33mb \u001b[0m\u001b[33m%\u001b[0m\u001b[33my\u001b[0m\u001b[33m'\u001b[0m)]                                   \u001b[31m \u001b[0m\n",
            "\u001b[31m \u001b[0m   \u001b[2m132 \u001b[0m                                                                               \u001b[31m \u001b[0m\n",
            "\u001b[31m \u001b[0m   \u001b[2m133 \u001b[0m\u001b[2m# Plot heatmap\u001b[0m                                                                 \u001b[31m \u001b[0m\n",
            "\u001b[31m \u001b[0m                                                                                      \u001b[31m \u001b[0m\n",
            "\u001b[31m \u001b[0m \u001b[2;33m/usr/local/lib/python3.11/dist-packages/pandas/core/tools/\u001b[0m\u001b[1;33mdatetimes.py\u001b[0m:\u001b[94m1076\u001b[0m in       \u001b[31m \u001b[0m\n",
            "\u001b[31m \u001b[0m \u001b[92mto_datetime\u001b[0m                                                                          \u001b[31m \u001b[0m\n",
            "\u001b[31m \u001b[0m                                                                                      \u001b[31m \u001b[0m\n",
            "\u001b[31m \u001b[0m   \u001b[2m1073 \u001b[0m\u001b[2m│   │   \u001b[0m\u001b[94mif\u001b[0m \u001b[95mnot\u001b[0m cache_array.empty:                                             \u001b[31m \u001b[0m\n",
            "\u001b[31m \u001b[0m   \u001b[2m1074 \u001b[0m\u001b[2m│   │   │   \u001b[0mresult = _convert_and_box_cache(arg, cache_array, name=arg.name)  \u001b[31m \u001b[0m\n",
            "\u001b[31m \u001b[0m   \u001b[2m1075 \u001b[0m\u001b[2m│   │   \u001b[0m\u001b[94melse\u001b[0m:                                                                 \u001b[31m \u001b[0m\n",
            "\u001b[31m \u001b[0m \u001b[31m❱ \u001b[0m1076 \u001b[2m│   │   │   \u001b[0mresult = \u001b[1;4mconvert_listlike(arg, \u001b[0m\u001b[1;4;96mformat\u001b[0m\u001b[1;4m, name=arg.name)\u001b[0m             \u001b[31m \u001b[0m\n",
            "\u001b[31m \u001b[0m   \u001b[2m1077 \u001b[0m\u001b[2m│   \u001b[0m\u001b[94melif\u001b[0m is_list_like(arg):                                                   \u001b[31m \u001b[0m\n",
            "\u001b[31m \u001b[0m   \u001b[2m1078 \u001b[0m\u001b[2m│   │   \u001b[0m\u001b[94mtry\u001b[0m:                                                                  \u001b[31m \u001b[0m\n",
            "\u001b[31m \u001b[0m   \u001b[2m1079 \u001b[0m\u001b[2m│   │   │   \u001b[0m\u001b[2m# error: Argument 1 to \"_maybe_cache\" has incompatible type\u001b[0m       \u001b[31m \u001b[0m\n",
            "\u001b[31m \u001b[0m                                                                                      \u001b[31m \u001b[0m\n",
            "\u001b[31m \u001b[0m \u001b[2;33m/usr/local/lib/python3.11/dist-packages/pandas/core/tools/\u001b[0m\u001b[1;33mdatetimes.py\u001b[0m:\u001b[94m433\u001b[0m in        \u001b[31m \u001b[0m\n",
            "\u001b[31m \u001b[0m \u001b[92m_convert_listlike_datetimes\u001b[0m                                                          \u001b[31m \u001b[0m\n",
            "\u001b[31m \u001b[0m                                                                                      \u001b[31m \u001b[0m\n",
            "\u001b[31m \u001b[0m   \u001b[2m 430 \u001b[0m\u001b[2m│   \u001b[0m                                                                          \u001b[31m \u001b[0m\n",
            "\u001b[31m \u001b[0m   \u001b[2m 431 \u001b[0m\u001b[2m│   \u001b[0m\u001b[2m# `format` could be inferred, or user didn't ask for mixed-format parsing\u001b[0m \u001b[31m \u001b[0m\n",
            "\u001b[31m \u001b[0m   \u001b[2m 432 \u001b[0m\u001b[2m│   \u001b[0m\u001b[94mif\u001b[0m \u001b[96mformat\u001b[0m \u001b[95mis\u001b[0m \u001b[95mnot\u001b[0m \u001b[94mNone\u001b[0m \u001b[95mand\u001b[0m \u001b[96mformat\u001b[0m != \u001b[33m\"\u001b[0m\u001b[33mmixed\u001b[0m\u001b[33m\"\u001b[0m:                              \u001b[31m \u001b[0m\n",
            "\u001b[31m \u001b[0m \u001b[31m❱ \u001b[0m 433 \u001b[2m│   │   \u001b[0m\u001b[94mreturn\u001b[0m \u001b[1;4m_array_strptime_with_fallback(arg, name, utc, \u001b[0m\u001b[1;4;96mformat\u001b[0m\u001b[1;4m, exact, e\u001b[0m \u001b[31m \u001b[0m\n",
            "\u001b[31m \u001b[0m   \u001b[2m 434 \u001b[0m\u001b[2m│   \u001b[0m                                                                          \u001b[31m \u001b[0m\n",
            "\u001b[31m \u001b[0m   \u001b[2m 435 \u001b[0m\u001b[2m│   \u001b[0mresult, tz_parsed = objects_to_datetime64(                                \u001b[31m \u001b[0m\n",
            "\u001b[31m \u001b[0m   \u001b[2m 436 \u001b[0m\u001b[2m│   │   \u001b[0marg,                                                                  \u001b[31m \u001b[0m\n",
            "\u001b[31m \u001b[0m                                                                                      \u001b[31m \u001b[0m\n",
            "\u001b[31m \u001b[0m \u001b[2;33m/usr/local/lib/python3.11/dist-packages/pandas/core/tools/\u001b[0m\u001b[1;33mdatetimes.py\u001b[0m:\u001b[94m467\u001b[0m in        \u001b[31m \u001b[0m\n",
            "\u001b[31m \u001b[0m \u001b[92m_array_strptime_with_fallback\u001b[0m                                                        \u001b[31m \u001b[0m\n",
            "\u001b[31m \u001b[0m                                                                                      \u001b[31m \u001b[0m\n",
            "\u001b[31m \u001b[0m   \u001b[2m 464 \u001b[0m\u001b[2;90m│   \u001b[0m\u001b[33m\"\"\"\u001b[0m                                                                       \u001b[31m \u001b[0m\n",
            "\u001b[31m \u001b[0m   \u001b[2m 465 \u001b[0m\u001b[2;33m│   \u001b[0m\u001b[33mCall array_strptime, with fallback behavior depending on 'errors'.\u001b[0m        \u001b[31m \u001b[0m\n",
            "\u001b[31m \u001b[0m   \u001b[2m 466 \u001b[0m\u001b[2;33m│   \u001b[0m\u001b[33m\"\"\"\u001b[0m                                                                       \u001b[31m \u001b[0m\n",
            "\u001b[31m \u001b[0m \u001b[31m❱ \u001b[0m 467 \u001b[2m│   \u001b[0mresult, tz_out = \u001b[1;4marray_strptime(arg, fmt, exact=exact, errors=errors, utc\u001b[0m \u001b[31m \u001b[0m\n",
            "\u001b[31m \u001b[0m   \u001b[2m 468 \u001b[0m\u001b[2m│   \u001b[0m\u001b[94mif\u001b[0m tz_out \u001b[95mis\u001b[0m \u001b[95mnot\u001b[0m \u001b[94mNone\u001b[0m:                                                    \u001b[31m \u001b[0m\n",
            "\u001b[31m \u001b[0m   \u001b[2m 469 \u001b[0m\u001b[2m│   │   \u001b[0munit = np.datetime_data(result.dtype)[\u001b[94m0\u001b[0m]                              \u001b[31m \u001b[0m\n",
            "\u001b[31m \u001b[0m   \u001b[2m 470 \u001b[0m\u001b[2m│   │   \u001b[0mdtype = DatetimeTZDtype(tz=tz_out, unit=unit)                         \u001b[31m \u001b[0m\n",
            "\u001b[31m \u001b[0m                                                                                      \u001b[31m \u001b[0m\n",
            "\u001b[31m \u001b[0m in \u001b[92mpandas._libs.tslibs.strptime.array_strptime\u001b[0m:\u001b[94m501\u001b[0m                                   \u001b[31m \u001b[0m\n",
            "\u001b[31m \u001b[0m                                                                                      \u001b[31m \u001b[0m\n",
            "\u001b[31m \u001b[0m in \u001b[92mpandas._libs.tslibs.strptime.array_strptime\u001b[0m:\u001b[94m451\u001b[0m                                   \u001b[31m \u001b[0m\n",
            "\u001b[31m \u001b[0m                                                                                      \u001b[31m \u001b[0m\n",
            "\u001b[31m \u001b[0m in \u001b[92mpandas._libs.tslibs.strptime._parse_with_format\u001b[0m:\u001b[94m583\u001b[0m                               \u001b[31m \u001b[0m\n",
            "\u001b[31m────────────────────────────────────────────────────────────────────────────────────────\u001b[0m\n",
            "\u001b[1;91mValueError: \u001b[0mtime data \u001b[32m\"Apr 2024\"\u001b[0m doesn't match format \u001b[32m\"%b-%y\"\u001b[0m, at position \u001b[1;36m0\u001b[0m. You might \n",
            "want to try:\n",
            "    - passing `format` if your strings have a consistent format;\n",
            "    - passing `\u001b[33mformat\u001b[0m=\u001b[32m'ISO8601'\u001b[0m` if your strings are all ISO8601 but not necessarily in \n",
            "exactly the same format;\n",
            "    - passing `\u001b[33mformat\u001b[0m=\u001b[32m'mixed'\u001b[0m`, and the format will be inferred for each element \n",
            "individually. You might want to use `dayfirst` alongside this.\n",
            "\u001b[31m──\u001b[0m\u001b[31m────────────────────────\u001b[0m\u001b[31m \u001b[0m\u001b[1;31mTraceback \u001b[0m\u001b[1;2;31m(most recent call last)\u001b[0m\u001b[31m \u001b[0m\u001b[31m─────────────────────────\u001b[0m\u001b[31m──\u001b[0m\n",
            "\u001b[31m \u001b[0m \u001b[2;33m/usr/local/lib/python3.11/dist-packages/streamlit/runtime/scriptrunner/\u001b[0m\u001b[1;33mexec_code.py\u001b[0m: \u001b[31m \u001b[0m\n",
            "\u001b[31m \u001b[0m \u001b[94m121\u001b[0m in \u001b[92mexec_func_with_error_handling\u001b[0m                                                 \u001b[31m \u001b[0m\n",
            "\u001b[31m \u001b[0m                                                                                      \u001b[31m \u001b[0m\n",
            "\u001b[31m \u001b[0m \u001b[2;33m/usr/local/lib/python3.11/dist-packages/streamlit/runtime/scriptrunner/\u001b[0m\u001b[1;33mscript_runner\u001b[0m \u001b[31m \u001b[0m\n",
            "\u001b[31m \u001b[0m \u001b[1;33m.py\u001b[0m:\u001b[94m645\u001b[0m in \u001b[92mcode_to_exec\u001b[0m                                                              \u001b[31m \u001b[0m\n",
            "\u001b[31m \u001b[0m                                                                                      \u001b[31m \u001b[0m\n",
            "\u001b[31m \u001b[0m \u001b[2;33m/content/\u001b[0m\u001b[1;33mapp.py\u001b[0m:\u001b[94m92\u001b[0m in \u001b[92m<module>\u001b[0m                                                       \u001b[31m \u001b[0m\n",
            "\u001b[31m \u001b[0m                                                                                      \u001b[31m \u001b[0m\n",
            "\u001b[31m \u001b[0m   \u001b[2m 89 \u001b[0m\u001b[2m│   \u001b[0max1.text(i, t / \u001b[94m2\u001b[0m, \u001b[96mstr\u001b[0m(t), ha=\u001b[33m'\u001b[0m\u001b[33mcenter\u001b[0m\u001b[33m'\u001b[0m, va=\u001b[33m'\u001b[0m\u001b[33mcenter\u001b[0m\u001b[33m'\u001b[0m, color=\u001b[33m'\u001b[0m\u001b[33mwhite\u001b[0m\u001b[33m'\u001b[0m, fontsi \u001b[31m \u001b[0m\n",
            "\u001b[31m \u001b[0m   \u001b[2m 90 \u001b[0m\u001b[2m│   \u001b[0max1.text(i, t + tt / \u001b[94m2\u001b[0m, \u001b[96mstr\u001b[0m(tt), ha=\u001b[33m'\u001b[0m\u001b[33mcenter\u001b[0m\u001b[33m'\u001b[0m, va=\u001b[33m'\u001b[0m\u001b[33mcenter\u001b[0m\u001b[33m'\u001b[0m, color=\u001b[33m'\u001b[0m\u001b[33mblack\u001b[0m\u001b[33m'\u001b[0m,  \u001b[31m \u001b[0m\n",
            "\u001b[31m \u001b[0m   \u001b[2m 91 \u001b[0m                                                                               \u001b[31m \u001b[0m\n",
            "\u001b[31m \u001b[0m \u001b[31m❱ \u001b[0m 92 \u001b[1;4max1.set_title(\u001b[0m\u001b[1;4;33m\"\u001b[0m\u001b[33mDistribusi Capaian Karyawan\u001b[0m\u001b[33m\"\u001b[0m)                                   \u001b[31m \u001b[0m\n",
            "\u001b[31m \u001b[0m   \u001b[2m 93 \u001b[0max1.set_ylabel(\u001b[33m\"\u001b[0m\u001b[33mJumlah Tugas\u001b[0m\u001b[33m\"\u001b[0m)                                                 \u001b[31m \u001b[0m\n",
            "\u001b[31m \u001b[0m   \u001b[2m 94 \u001b[0mplt.xticks()                                                                   \u001b[31m \u001b[0m\n",
            "\u001b[31m \u001b[0m   \u001b[2m 95 \u001b[0max1.legend()                                                                   \u001b[31m \u001b[0m\n",
            "\u001b[31m────────────────────────────────────────────────────────────────────────────────────────\u001b[0m\n",
            "\u001b[1;91mTypeError: \u001b[0m\u001b[1;35mAxes.set_title\u001b[0m\u001b[1m(\u001b[0m\u001b[1m)\u001b[0m missing \u001b[1;36m1\u001b[0m required positional argument: \u001b[32m'label'\u001b[0m\n",
            "\u001b[31m──\u001b[0m\u001b[31m────────────────────────\u001b[0m\u001b[31m \u001b[0m\u001b[1;31mTraceback \u001b[0m\u001b[1;2;31m(most recent call last)\u001b[0m\u001b[31m \u001b[0m\u001b[31m─────────────────────────\u001b[0m\u001b[31m──\u001b[0m\n",
            "\u001b[31m \u001b[0m \u001b[2;33m/usr/local/lib/python3.11/dist-packages/streamlit/runtime/scriptrunner/\u001b[0m\u001b[1;33mexec_code.py\u001b[0m: \u001b[31m \u001b[0m\n",
            "\u001b[31m \u001b[0m \u001b[94m121\u001b[0m in \u001b[92mexec_func_with_error_handling\u001b[0m                                                 \u001b[31m \u001b[0m\n",
            "\u001b[31m \u001b[0m                                                                                      \u001b[31m \u001b[0m\n",
            "\u001b[31m \u001b[0m \u001b[2;33m/usr/local/lib/python3.11/dist-packages/streamlit/runtime/scriptrunner/\u001b[0m\u001b[1;33mscript_runner\u001b[0m \u001b[31m \u001b[0m\n",
            "\u001b[31m \u001b[0m \u001b[1;33m.py\u001b[0m:\u001b[94m645\u001b[0m in \u001b[92mcode_to_exec\u001b[0m                                                              \u001b[31m \u001b[0m\n",
            "\u001b[31m \u001b[0m                                                                                      \u001b[31m \u001b[0m\n",
            "\u001b[31m \u001b[0m \u001b[2;33m/content/\u001b[0m\u001b[1;33mapp.py\u001b[0m:\u001b[94m110\u001b[0m in \u001b[92m<module>\u001b[0m                                                      \u001b[31m \u001b[0m\n",
            "\u001b[31m \u001b[0m                                                                                      \u001b[31m \u001b[0m\n",
            "\u001b[31m \u001b[0m   \u001b[2m107 \u001b[0max2.bar_label(bars, labels=[\u001b[33mf\u001b[0m\u001b[33m\"\u001b[0m\u001b[33m{\u001b[0mval\u001b[33m:\u001b[0m\u001b[33m.1f\u001b[0m\u001b[33m}\u001b[0m\u001b[33m%\u001b[0m\u001b[33m\"\u001b[0m \u001b[94mfor\u001b[0m val \u001b[95min\u001b[0m indikator_perf.values],   \u001b[31m \u001b[0m\n",
            "\u001b[31m \u001b[0m   \u001b[2m108 \u001b[0m\u001b[2m│   │   │     \u001b[0mlabel_type=\u001b[33m'\u001b[0m\u001b[33medge\u001b[0m\u001b[33m'\u001b[0m, fontsize=\u001b[94m10\u001b[0m, padding=\u001b[94m3\u001b[0m)                       \u001b[31m \u001b[0m\n",
            "\u001b[31m \u001b[0m   \u001b[2m109 \u001b[0m                                                                               \u001b[31m \u001b[0m\n",
            "\u001b[31m \u001b[0m \u001b[31m❱ \u001b[0m110 \u001b[1;4max2.set_xlabel(\u001b[0m\u001b[33m'\u001b[0m\u001b[33mRata-rata Capaian (\u001b[0m\u001b[33m%\u001b[0m\u001b[33m)\u001b[0m\u001b[33m'\u001b[0m)                                        \u001b[31m \u001b[0m\n",
            "\u001b[31m \u001b[0m   \u001b[2m111 \u001b[0max2.set_title()                                                                \u001b[31m \u001b[0m\n",
            "\u001b[31m \u001b[0m   \u001b[2m112 \u001b[0mplt.gca().invert_yaxis()                                                       \u001b[31m \u001b[0m\n",
            "\u001b[31m \u001b[0m   \u001b[2m113 \u001b[0mplt.tight_layout()                                                             \u001b[31m \u001b[0m\n",
            "\u001b[31m────────────────────────────────────────────────────────────────────────────────────────\u001b[0m\n",
            "\u001b[1;91mTypeError: \u001b[0m\u001b[1;35mAxes.set_title\u001b[0m\u001b[1m(\u001b[0m\u001b[1m)\u001b[0m missing \u001b[1;36m1\u001b[0m required positional argument: \u001b[32m'label'\u001b[0m\n"
          ]
        }
      ],
      "source": [
        "!streamlit run app.py & npx localtunnel --port 8501"
      ]
    },
    {
      "cell_type": "code",
      "execution_count": null,
      "metadata": {
        "id": "3IbJrpuc7Ual"
      },
      "outputs": [],
      "source": []
    }
  ],
  "metadata": {
    "colab": {
      "provenance": []
    },
    "kernelspec": {
      "display_name": "Python 3",
      "name": "python3"
    },
    "language_info": {
      "name": "python"
    }
  },
  "nbformat": 4,
  "nbformat_minor": 0
}